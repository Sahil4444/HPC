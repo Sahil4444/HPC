{
  "cells": [
    {
      "cell_type": "code",
      "execution_count": 1,
      "id": "03fdcaae",
      "metadata": {
        "colab": {
          "base_uri": "https://localhost:8080/"
        },
        "id": "03fdcaae",
        "outputId": "9b6bbabd-13e3-473e-b89e-0ffbfc3b25e3"
      },
      "outputs": [
        {
          "output_type": "stream",
          "name": "stdout",
          "text": [
            "Collecting cupy-cuda11x\n",
            "  Downloading cupy_cuda11x-13.4.1-cp311-cp311-manylinux2014_x86_64.whl.metadata (2.7 kB)\n",
            "Requirement already satisfied: numpy<2.3,>=1.22 in /usr/local/lib/python3.11/dist-packages (from cupy-cuda11x) (2.0.2)\n",
            "Requirement already satisfied: fastrlock>=0.5 in /usr/local/lib/python3.11/dist-packages (from cupy-cuda11x) (0.8.3)\n",
            "Downloading cupy_cuda11x-13.4.1-cp311-cp311-manylinux2014_x86_64.whl (100.0 MB)\n",
            "\u001b[2K   \u001b[90m━━━━━━━━━━━━━━━━━━━━━━━━━━━━━━━━━━━━━━━━\u001b[0m \u001b[32m100.0/100.0 MB\u001b[0m \u001b[31m6.4 MB/s\u001b[0m eta \u001b[36m0:00:00\u001b[0m\n",
            "\u001b[?25hInstalling collected packages: cupy-cuda11x\n",
            "Successfully installed cupy-cuda11x-13.4.1\n"
          ]
        }
      ],
      "source": [
        "!pip install cupy-cuda11x"
      ]
    },
    {
      "cell_type": "code",
      "execution_count": 4,
      "id": "2169f97e",
      "metadata": {
        "colab": {
          "base_uri": "https://localhost:8080/"
        },
        "id": "2169f97e",
        "outputId": "3c231473-80ad-4f9d-bd3c-758647f7af95"
      },
      "outputs": [
        {
          "output_type": "stream",
          "name": "stdout",
          "text": [
            "Enter size of vector/matrix (N): 5\n",
            "Enter elements for Vector A:\n",
            "A[0]: 0\n",
            "A[1]: 1\n",
            "A[2]: 2\n",
            "A[3]: 3\n",
            "A[4]: 4\n",
            "Enter elements for Vector B:\n",
            "B[0]: 0\n",
            "B[1]: 2\n",
            "B[2]: 4\n",
            "B[3]: 6\n",
            "B[4]: 8\n",
            "\n",
            "Vector A: [0 1 2 3 4]\n",
            "Vector B: [0 2 4 6 8]\n",
            "Addition (A + B): [ 0  3  6  9 12]\n",
            "\n",
            "Enter elements for Matrix D:\n",
            "D[0][0]: 0\n",
            "D[0][1]: 1\n",
            "D[0][2]: 2\n",
            "D[0][3]: 3\n",
            "D[0][4]: 4\n",
            "D[1][0]: 0\n",
            "D[1][1]: 2\n",
            "D[1][2]: 4\n",
            "D[1][3]: 6\n",
            "D[1][4]: 8\n",
            "D[2][0]: 0\n",
            "D[2][1]: 1\n",
            "D[2][2]: 2\n",
            "D[2][3]: 3\n",
            "D[2][4]: 4\n",
            "D[3][0]: 0\n",
            "D[3][1]: 2\n",
            "D[3][2]: 4\n",
            "D[3][3]: 6\n",
            "D[3][4]: 8\n",
            "D[4][0]: 0\n",
            "D[4][1]: 1\n",
            "D[4][2]: 2\n",
            "D[4][3]: 3\n",
            "D[4][4]: 4\n",
            "Enter elements for Matrix E:\n",
            "E[0][0]: 0\n",
            "E[0][1]: 2\n",
            "E[0][2]: 4\n",
            "E[0][3]: 6\n",
            "E[0][4]: 8\n",
            "E[1][0]: 0\n",
            "E[1][1]: 1\n",
            "E[1][2]: 2\n",
            "E[1][3]: 3\n",
            "E[1][4]: 4\n",
            "E[2][0]: 0\n",
            "E[2][1]: 2\n",
            "E[2][2]: 4\n",
            "E[2][3]: 6\n",
            "E[2][4]: 8\n",
            "E[3][0]: 0\n",
            "E[3][1]: 1\n",
            "E[3][2]: 2\n",
            "E[3][3]: 3\n",
            "E[3][4]: 4\n",
            "E[4][0]: 0\n",
            "E[4][1]: 2\n",
            "E[4][2]: 4\n",
            "E[4][3]: 6\n",
            "E[4][4]: 8\n",
            "\n",
            "Matrix D:\n",
            "[[0 1 2 3 4]\n",
            " [0 2 4 6 8]\n",
            " [0 1 2 3 4]\n",
            " [0 2 4 6 8]\n",
            " [0 1 2 3 4]]\n",
            "\n",
            "Matrix E:\n",
            "[[0 2 4 6 8]\n",
            " [0 1 2 3 4]\n",
            " [0 2 4 6 8]\n",
            " [0 1 2 3 4]\n",
            " [0 2 4 6 8]]\n",
            "\n",
            "Multiplication Result (D x E):\n",
            "[[  0  16  32  48  64]\n",
            " [  0  32  64  96 128]\n",
            " [  0  16  32  48  64]\n",
            " [  0  32  64  96 128]\n",
            " [  0  16  32  48  64]]\n"
          ]
        }
      ],
      "source": [
        "USE_GPU = False\n",
        "\n",
        "if USE_GPU:\n",
        "    import cupy as xp\n",
        "else:\n",
        "    import numpy as xp\n",
        "\n",
        "# User Input\n",
        "N = int(input(\"Enter size of vector/matrix (N): \"))\n",
        "\n",
        "# Input Vectors\n",
        "print(\"Enter elements for Vector A:\")\n",
        "A = xp.array([int(input(f\"A[{i}]: \")) for i in range(N)])\n",
        "print(\"Enter elements for Vector B:\")\n",
        "B = xp.array([int(input(f\"B[{i}]: \")) for i in range(N)])\n",
        "\n",
        "# Vector Addition\n",
        "C = A + B\n",
        "\n",
        "print(\"\\nVector A:\", A)\n",
        "print(\"Vector B:\", B)\n",
        "print(\"Addition (A + B):\", C)\n",
        "\n",
        "# Input Matrices\n",
        "print(\"\\nEnter elements for Matrix D:\")\n",
        "D = xp.zeros((N, N), dtype=int)\n",
        "for i in range(N):\n",
        "    for j in range(N):\n",
        "        D[i, j] = int(input(f\"D[{i}][{j}]: \"))\n",
        "\n",
        "print(\"Enter elements for Matrix E:\")\n",
        "E = xp.zeros((N, N), dtype=int)\n",
        "for i in range(N):\n",
        "    for j in range(N):\n",
        "        E[i, j] = int(input(f\"E[{i}][{j}]: \"))\n",
        "\n",
        "# Matrix Multiplication\n",
        "F = D @ E\n",
        "\n",
        "print(\"\\nMatrix D:\")\n",
        "print(D)\n",
        "\n",
        "print(\"\\nMatrix E:\")\n",
        "print(E)\n",
        "\n",
        "print(\"\\nMultiplication Result (D x E):\")\n",
        "print(F)"
      ]
    },
    {
      "cell_type": "code",
      "execution_count": null,
      "id": "ee946486",
      "metadata": {
        "id": "ee946486"
      },
      "outputs": [],
      "source": [
        "8"
      ]
    }
  ],
  "metadata": {
    "kernelspec": {
      "display_name": "Python 3 (ipykernel)",
      "language": "python",
      "name": "python3"
    },
    "language_info": {
      "codemirror_mode": {
        "name": "ipython",
        "version": 3
      },
      "file_extension": ".py",
      "mimetype": "text/x-python",
      "name": "python",
      "nbconvert_exporter": "python",
      "pygments_lexer": "ipython3",
      "version": "3.11.5"
    },
    "colab": {
      "provenance": []
    }
  },
  "nbformat": 4,
  "nbformat_minor": 5
}